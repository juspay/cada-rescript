{
 "cells": [
  {
   "cell_type": "code",
   "execution_count": 2,
   "id": "0d13d1fd",
   "metadata": {},
   "outputs": [],
   "source": [
    "import os\n",
    "from jaf.core.llm.openai import AzureGPTLLM\n",
    "from dotenv import load_dotenv\n",
    "import json\n",
    "import re\n",
    "import subprocess"
   ]
  },
  {
   "cell_type": "code",
   "execution_count": 3,
   "id": "b40701d7",
   "metadata": {},
   "outputs": [
    {
     "data": {
      "text/plain": [
       "False"
      ]
     },
     "execution_count": 3,
     "metadata": {},
     "output_type": "execute_result"
    }
   ],
   "source": [
    "os.environ[\"TOKENIZERS_PARALLELISM\"] = \"false\"\n",
    "load_dotenv()"
   ]
  },
  {
   "cell_type": "code",
   "execution_count": null,
   "id": "4e6fa20c",
   "metadata": {},
   "outputs": [
    {
     "ename": "OpenAIError",
     "evalue": "Missing credentials. Please pass one of `api_key`, `azure_ad_token`, `azure_ad_token_provider`, or the `AZURE_OPENAI_API_KEY` or `AZURE_OPENAI_AD_TOKEN` environment variables.",
     "output_type": "error",
     "traceback": [
      "\u001b[31m---------------------------------------------------------------------------\u001b[39m",
      "\u001b[31mOpenAIError\u001b[39m                               Traceback (most recent call last)",
      "\u001b[36mCell\u001b[39m\u001b[36m \u001b[39m\u001b[32mIn[6]\u001b[39m\u001b[32m, line 7\u001b[39m\n\u001b[32m      4\u001b[39m api_key = os.getenv(\u001b[33m\"\u001b[39m\u001b[33mAZURE_OAI_API_KEY\u001b[39m\u001b[33m\"\u001b[39m)\n\u001b[32m      5\u001b[39m \u001b[38;5;66;03m# project = os.getenv(\"PROJECT_KEY\")\u001b[39;00m\n\u001b[32m----> \u001b[39m\u001b[32m7\u001b[39m azure_llm = \u001b[43mAzureGPTLLM\u001b[49m\u001b[43m(\u001b[49m\n\u001b[32m      8\u001b[39m \u001b[43m    \u001b[49m\u001b[43mdeployment_name\u001b[49m\u001b[43m=\u001b[49m\u001b[43mdeployment_name\u001b[49m\u001b[43m,\u001b[49m\n\u001b[32m      9\u001b[39m \u001b[43m    \u001b[49m\u001b[43mapi_base\u001b[49m\u001b[43m=\u001b[49m\u001b[43mapi_base\u001b[49m\u001b[43m,\u001b[49m\n\u001b[32m     10\u001b[39m \u001b[43m    \u001b[49m\u001b[43mapi_version\u001b[49m\u001b[43m=\u001b[49m\u001b[43mapi_version\u001b[49m\u001b[43m,\u001b[49m\n\u001b[32m     11\u001b[39m \u001b[43m    \u001b[49m\u001b[43mapi_key\u001b[49m\u001b[43m=\u001b[49m\u001b[43mapi_key\u001b[49m\n\u001b[32m     12\u001b[39m \u001b[43m)\u001b[49m\n",
      "\u001b[36mFile \u001b[39m\u001b[32m~/Documents/Opensource/cada-rescript/venv/lib/python3.12/site-packages/jaf/core/llm/openai.py:23\u001b[39m, in \u001b[36mAzureGPTLLM.__init__\u001b[39m\u001b[34m(self, deployment_name, api_base, api_version, api_key, stream, max_tokens, functions)\u001b[39m\n\u001b[32m     20\u001b[39m \u001b[38;5;28mself\u001b[39m.function_list = functions\n\u001b[32m     21\u001b[39m \u001b[38;5;28mself\u001b[39m.available_functions_dict = {func.name: func \u001b[38;5;28;01mfor\u001b[39;00m func \u001b[38;5;129;01min\u001b[39;00m \u001b[38;5;28mself\u001b[39m.function_list}\n\u001b[32m---> \u001b[39m\u001b[32m23\u001b[39m \u001b[38;5;28mself\u001b[39m.client = \u001b[43mAzureOpenAI\u001b[49m\u001b[43m(\u001b[49m\n\u001b[32m     24\u001b[39m \u001b[43m    \u001b[49m\u001b[43mazure_endpoint\u001b[49m\u001b[43m=\u001b[49m\u001b[38;5;28;43mself\u001b[39;49m\u001b[43m.\u001b[49m\u001b[43mapi_base\u001b[49m\u001b[43m,\u001b[49m\n\u001b[32m     25\u001b[39m \u001b[43m    \u001b[49m\u001b[43mazure_deployment\u001b[49m\u001b[43m=\u001b[49m\u001b[38;5;28;43mself\u001b[39;49m\u001b[43m.\u001b[49m\u001b[43mdeployment_name\u001b[49m\u001b[43m,\u001b[49m\n\u001b[32m     26\u001b[39m \u001b[43m    \u001b[49m\u001b[43mapi_version\u001b[49m\u001b[43m=\u001b[49m\u001b[38;5;28;43mself\u001b[39;49m\u001b[43m.\u001b[49m\u001b[43mapi_version\u001b[49m\u001b[43m,\u001b[49m\n\u001b[32m     27\u001b[39m \u001b[43m    \u001b[49m\u001b[43mapi_key\u001b[49m\u001b[43m=\u001b[49m\u001b[38;5;28;43mself\u001b[39;49m\u001b[43m.\u001b[49m\u001b[43mapi_key\u001b[49m\u001b[43m,\u001b[49m\n\u001b[32m     28\u001b[39m \u001b[43m    \u001b[49m\u001b[43mhttp_client\u001b[49m\u001b[43m=\u001b[49m\u001b[43mget_network_proxy\u001b[49m\u001b[43m(\u001b[49m\u001b[34;43m__name__\u001b[39;49m\u001b[43m)\u001b[49m\n\u001b[32m     29\u001b[39m \u001b[43m\u001b[49m\u001b[43m)\u001b[49m\n\u001b[32m     31\u001b[39m \u001b[38;5;28msuper\u001b[39m().\u001b[34m__init__\u001b[39m(stream=stream)\n",
      "\u001b[36mFile \u001b[39m\u001b[32m~/Documents/Opensource/cada-rescript/venv/lib/python3.12/site-packages/openai/lib/azure.py:195\u001b[39m, in \u001b[36mAzureOpenAI.__init__\u001b[39m\u001b[34m(self, api_version, azure_endpoint, azure_deployment, api_key, azure_ad_token, azure_ad_token_provider, organization, project, websocket_base_url, base_url, timeout, max_retries, default_headers, default_query, http_client, _strict_response_validation)\u001b[39m\n\u001b[32m    192\u001b[39m     azure_ad_token = os.environ.get(\u001b[33m\"\u001b[39m\u001b[33mAZURE_OPENAI_AD_TOKEN\u001b[39m\u001b[33m\"\u001b[39m)\n\u001b[32m    194\u001b[39m \u001b[38;5;28;01mif\u001b[39;00m api_key \u001b[38;5;129;01mis\u001b[39;00m \u001b[38;5;28;01mNone\u001b[39;00m \u001b[38;5;129;01mand\u001b[39;00m azure_ad_token \u001b[38;5;129;01mis\u001b[39;00m \u001b[38;5;28;01mNone\u001b[39;00m \u001b[38;5;129;01mand\u001b[39;00m azure_ad_token_provider \u001b[38;5;129;01mis\u001b[39;00m \u001b[38;5;28;01mNone\u001b[39;00m:\n\u001b[32m--> \u001b[39m\u001b[32m195\u001b[39m     \u001b[38;5;28;01mraise\u001b[39;00m OpenAIError(\n\u001b[32m    196\u001b[39m         \u001b[33m\"\u001b[39m\u001b[33mMissing credentials. Please pass one of `api_key`, `azure_ad_token`, `azure_ad_token_provider`, or the `AZURE_OPENAI_API_KEY` or `AZURE_OPENAI_AD_TOKEN` environment variables.\u001b[39m\u001b[33m\"\u001b[39m\n\u001b[32m    197\u001b[39m     )\n\u001b[32m    199\u001b[39m \u001b[38;5;28;01mif\u001b[39;00m api_version \u001b[38;5;129;01mis\u001b[39;00m \u001b[38;5;28;01mNone\u001b[39;00m:\n\u001b[32m    200\u001b[39m     api_version = os.environ.get(\u001b[33m\"\u001b[39m\u001b[33mOPENAI_API_VERSION\u001b[39m\u001b[33m\"\u001b[39m)\n",
      "\u001b[31mOpenAIError\u001b[39m: Missing credentials. Please pass one of `api_key`, `azure_ad_token`, `azure_ad_token_provider`, or the `AZURE_OPENAI_API_KEY` or `AZURE_OPENAI_AD_TOKEN` environment variables."
     ]
    }
   ],
   "source": [
    "AZURE_GPT_DEPLOYMENT_NAME=os.getenv(\"AZURE_GPT_DEPLOYMENT_NAME\")\n",
    "AZURE_OAI_BASE_URL=os.getenv(\"AZURE_OAI_BASE_URL\")\n",
    "AZURE_OAI_API_VERSION= os.getenv(\"AZURE_OAI_API_VERSION\")\n",
    "AZURE_OAI_API_KEY= os.getenv(\"AZURE_OAI_API_KEY\")\n",
    "azure_llm = AzureGPTLLM(\n",
    "    deployment_name=AZURE_GPT_DEPLOYMENT_NAME,\n",
    "    api_base=AZURE_OAI_BASE_URL,\n",
    "    api_version=AZURE_OAI_API_VERSION,\n",
    "    api_key=AZURE_OAI_API_KEY\n",
    ")"
   ]
  },
  {
   "cell_type": "code",
   "execution_count": 18,
   "id": "f4cd72ca",
   "metadata": {},
   "outputs": [
    {
     "name": "stderr",
     "output_type": "stream",
     "text": [
      "/Users/suryansh.s/cada-rescript/node_modules/tree-sitter/index.js:837\n",
      "  for (let id = 0, n = nodeTypeNamesById.length; id < n; id++) {\n",
      "                                         ^\n",
      "\n",
      "TypeError: Cannot read properties of undefined (reading 'length')\n",
      "    at initializeLanguageNodeClasses (/Users/suryansh.s/cada-rescript/node_modules/\u001b[4mtree-sitter\u001b[24m/index.js:837:42)\n",
      "    at Parser.setLanguage (/Users/suryansh.s/cada-rescript/node_modules/\u001b[4mtree-sitter\u001b[24m/index.js:342:5)\n",
      "    at Object.<anonymous> (/Users/suryansh.s/cada-rescript/cada.js:14:8)\n",
      "\u001b[90m    at Module._compile (node:internal/modules/cjs/loader:1734:14)\u001b[39m\n",
      "\u001b[90m    at Object..js (node:internal/modules/cjs/loader:1899:10)\u001b[39m\n",
      "\u001b[90m    at Module.load (node:internal/modules/cjs/loader:1469:32)\u001b[39m\n",
      "\u001b[90m    at Function._load (node:internal/modules/cjs/loader:1286:12)\u001b[39m\n",
      "\u001b[90m    at TracingChannel.traceSync (node:diagnostics_channel:322:14)\u001b[39m\n",
      "\u001b[90m    at wrapModuleLoad (node:internal/modules/cjs/loader:235:24)\u001b[39m\n",
      "\u001b[90m    at Function.executeUserEntryPoint [as runMain] (node:internal/modules/run_main:151:5)\u001b[39m\n",
      "\n",
      "Node.js v23.11.0\n"
     ]
    },
    {
     "ename": "CalledProcessError",
     "evalue": "Command '['node', '../cada.js', 'ssh://git@ssh.bitbucket.juspay.net/jbiz/rescript-euler-dashboard.git', '../rescript-euler-dashboard/', '3ba4fd29ca78f655aef39da221ea2925959751cd', '91187b10db4b7254c2a6759be9e5aab363f01dd5', '../rescript-euler-dashboard']' returned non-zero exit status 1.",
     "output_type": "error",
     "traceback": [
      "\u001b[31m---------------------------------------------------------------------------\u001b[39m",
      "\u001b[31mCalledProcessError\u001b[39m                        Traceback (most recent call last)",
      "\u001b[36mCell\u001b[39m\u001b[36m \u001b[39m\u001b[32mIn[18]\u001b[39m\u001b[32m, line 10\u001b[39m\n\u001b[32m      1\u001b[39m cmd = [\n\u001b[32m      2\u001b[39m     \u001b[33m\"\u001b[39m\u001b[33mnode\u001b[39m\u001b[33m\"\u001b[39m, \u001b[33m\"\u001b[39m\u001b[33m../cada.js\u001b[39m\u001b[33m\"\u001b[39m,\n\u001b[32m      3\u001b[39m     \u001b[33m\"\u001b[39m\u001b[33mssh://git@ssh.bitbucket.juspay.net/jbiz/rescript-euler-dashboard.git\u001b[39m\u001b[33m\"\u001b[39m,\n\u001b[32m   (...)\u001b[39m\u001b[32m      7\u001b[39m     \u001b[33m\"\u001b[39m\u001b[33m../rescript-euler-dashboard\u001b[39m\u001b[33m\"\u001b[39m\n\u001b[32m      8\u001b[39m ]\n\u001b[32m---> \u001b[39m\u001b[32m10\u001b[39m \u001b[43msubprocess\u001b[49m\u001b[43m.\u001b[49m\u001b[43mrun\u001b[49m\u001b[43m(\u001b[49m\u001b[43mcmd\u001b[49m\u001b[43m,\u001b[49m\u001b[43m \u001b[49m\u001b[43mcheck\u001b[49m\u001b[43m=\u001b[49m\u001b[38;5;28;43;01mTrue\u001b[39;49;00m\u001b[43m)\u001b[49m\n",
      "\u001b[36mFile \u001b[39m\u001b[32m/Library/Frameworks/Python.framework/Versions/3.12/lib/python3.12/subprocess.py:571\u001b[39m, in \u001b[36mrun\u001b[39m\u001b[34m(input, capture_output, timeout, check, *popenargs, **kwargs)\u001b[39m\n\u001b[32m    569\u001b[39m     retcode = process.poll()\n\u001b[32m    570\u001b[39m     \u001b[38;5;28;01mif\u001b[39;00m check \u001b[38;5;129;01mand\u001b[39;00m retcode:\n\u001b[32m--> \u001b[39m\u001b[32m571\u001b[39m         \u001b[38;5;28;01mraise\u001b[39;00m CalledProcessError(retcode, process.args,\n\u001b[32m    572\u001b[39m                                  output=stdout, stderr=stderr)\n\u001b[32m    573\u001b[39m \u001b[38;5;28;01mreturn\u001b[39;00m CompletedProcess(process.args, retcode, stdout, stderr)\n",
      "\u001b[31mCalledProcessError\u001b[39m: Command '['node', '../cada.js', 'ssh://git@ssh.bitbucket.juspay.net/jbiz/rescript-euler-dashboard.git', '../rescript-euler-dashboard/', '3ba4fd29ca78f655aef39da221ea2925959751cd', '91187b10db4b7254c2a6759be9e5aab363f01dd5', '../rescript-euler-dashboard']' returned non-zero exit status 1."
     ]
    }
   ],
   "source": [
    "cmd = [\n",
    "    \"node\", \"../cada.js\",\n",
    "    \"ssh://git@ssh.bitbucket.juspay.net/jbiz/rescript-euler-dashboard.git\",\n",
    "    \"../rescript-euler-dashboard/\",\n",
    "    \"3ba4fd29ca78f655aef39da221ea2925959751cd\",\n",
    "    \"91187b10db4b7254c2a6759be9e5aab363f01dd5\",\n",
    "    \"../rescript-euler-dashboard\"\n",
    "]\n",
    "\n",
    "subprocess.run(cmd, check=True)"
   ]
  },
  {
   "cell_type": "code",
   "execution_count": 9,
   "id": "16dc1260",
   "metadata": {},
   "outputs": [],
   "source": [
    "system_message = \"\"\"You are a senior QA engineer specializing in frontend testing. Your task is to generate SPECIFIC, ACTIONABLE UI testing instructions based on code changes.\n",
    "\n",
    "CRITICAL REQUIREMENTS:\n",
    "- Be SPECIFIC about what to test, where to find it, and what to look for\n",
    "- Provide DETAILED steps that any tester can follow without guessing\n",
    "- Focus on REAL user scenarios and business workflows\n",
    "- Include SPECIFIC UI elements, buttons, forms, pages to test\n",
    "- Mention EXACT expected behaviors and visual changes\n",
    "- Avoid generic phrases like \"test the component\" or \"verify functionality\"\n",
    "\n",
    "When analyzing function/type changes, infer likely UI impact:\n",
    "- New functions → new UI features/buttons/workflows to test\n",
    "- Modified functions → changed behavior in existing UI elements\n",
    "- Deleted functions → removed features that should no longer appear\n",
    "- Type changes → data structure changes affecting forms, displays, validation\n",
    "\n",
    "You MUST output a JSON object with exactly two keys:\n",
    "\n",
    "1. \"instructionPoints\" — array of SPECIFIC test steps (8-15 words each)\n",
    "2. \"testInstructions\" — detailed paragraph with concrete testing scenarios\n",
    "\n",
    "GOOD Example:\n",
    "{\n",
    "  \"instructionPoints\": [\n",
    "    \"Open user profile page and locate new 'Export Data' button\",\n",
    "    \"Click export button and verify download modal appears with format options\",\n",
    "    \"Select CSV format and confirm file downloads with correct data\",\n",
    "    \"Test export with empty profile and verify appropriate empty state message\"\n",
    "  ],\n",
    "  \"testInstructions\": \"Navigate to the user profile page (usually at /profile or /settings). Look for a new 'Export Data' button in the account settings section. Click this button and verify a modal dialog appears with export format options (CSV, JSON, PDF). Select CSV format and click 'Download' - confirm a file downloads with the user's profile data. Test edge case: create a test user with minimal profile data and verify the export shows appropriate empty state messages rather than blank fields.\"\n",
    "}\n",
    "\n",
    "BAD Example (too generic):\n",
    "{\n",
    "  \"instructionPoints\": [\n",
    "    \"Test the new functionality\",\n",
    "    \"Verify the component works correctly\",\n",
    "    \"Check for errors\"\n",
    "  ],\n",
    "  \"testInstructions\": \"Test the component to make sure it works properly and displays correctly.\"\n",
    "}\n",
    "\n",
    "Make sure the JSON is valid (no trailing commas), and do not wrap it in markdown fences. ALSO DO NOT MAKE ANY ASSUMPTION, WE WANT UNIT TEST CASES, NO ASSUMPTION FOR TRAVERSIG AND ALL\"\"\""
   ]
  },
  {
   "cell_type": "code",
   "execution_count": 10,
   "id": "be747c95",
   "metadata": {},
   "outputs": [],
   "source": [
    "with open(\"detailed_changes.json\", \"r\") as f:\n",
    "    raw_changes = json.load(f)"
   ]
  },
  {
   "cell_type": "code",
   "execution_count": 11,
   "id": "f77f6222",
   "metadata": {},
   "outputs": [
    {
     "name": "stdout",
     "output_type": "stream",
     "text": [
      "Generated test_plan.json with 2 entries focused on UI testing.\n"
     ]
    }
   ],
   "source": [
    "test_plan = []\n",
    "\n",
    "for change in raw_changes:\n",
    "    module = change.get(\"moduleName\", \"Unknown\")\n",
    "\n",
    "    summaries = []\n",
    "    summaries += [f\"Added function `{name}` (likely affects UI component behavior)\" for name, _ in change.get(\"addedFunctions\", [])]\n",
    "    summaries += [f\"Modified function `{name}` (may change component interaction)\" for name, _, _ in change.get(\"modifiedFunctions\", [])]\n",
    "    summaries += [f\"Deleted function `{name}` (component functionality removed)\" for name, _ in change.get(\"deletedFunctions\", [])]\n",
    "    summaries += [f\"Added type `{name}` (new data structure for UI state)\" for name, _ in change.get(\"addedTypes\", [])]\n",
    "    summaries += [f\"Modified type `{name}` (UI data structure changed)\" for name, _, _ in change.get(\"modifiedTypes\", [])]\n",
    "    summaries += [f\"Deleted type `{name}` (UI data structure removed)\" for name, _ in change.get(\"deletedTypes\", [])]\n",
    "    summaries += [f\"Added external `{name}` (new external API/library integration)\" for name, _ in change.get(\"addedExternals\", [])]\n",
    "    summaries += [f\"Modified external `{name}` (external integration changed)\" for name, _, _ in change.get(\"modifiedExternals\", [])]\n",
    "    summaries += [f\"Deleted external `{name}` (external integration removed)\" for name, _ in change.get(\"deletedExternals\", [])]\n",
    "\n",
    "    if not summaries:\n",
    "        continue\n",
    "\n",
    "    user_message = (\n",
    "        f\"Module **{module}** has the following changes:\\n\"\n",
    "        + \"\\n\".join(f\"- {s}\" for s in summaries)\n",
    "        + \"\\n\\n\"\n",
    "        \"Based on these specific code changes, generate DETAILED UI testing instructions that include:\\n\\n\"\n",
    "        \"MUST INCLUDE:\\n\"\n",
    "        \"- Specific page/URL paths where changes are likely visible\\n\"\n",
    "        \"- Exact UI elements (buttons, forms, menus, sections) to test\\n\"\n",
    "        \"- Step-by-step user actions with expected outcomes\\n\"\n",
    "        \"- Specific data to input and expected validation/error messages\\n\"\n",
    "        \"- Visual elements to verify (text, colors, layouts, animations)\\n\"\n",
    "        \"- Browser/device specific testing if relevant\\n\\n\"\n",
    "        \"INFER FROM CHANGES:\\n\"\n",
    "        \"- If functions added → new features/buttons appeared\\n\"\n",
    "        \"- If functions modified → existing behavior changed  \\n\"\n",
    "        \"- If functions deleted → features removed/hidden\\n\"\n",
    "        \"- If types changed → form fields, validation, data display affected\\n\\n\"\n",
    "        \"Provide actionable instructions a QA tester can follow immediately without needing to understand the code.\"\n",
    "    )\n",
    "\n",
    "    resp = azure_llm.call_llm(\n",
    "        system_message=system_message,\n",
    "        user_message=user_message,\n",
    "        stream=False\n",
    "    )\n",
    "    instructions_raw = resp.choices[0].message.content.strip()\n",
    "    instructions_raw = resp.choices[0].message.content.strip()\n",
    "\n",
    "    parsed_instructions = None\n",
    "    try:\n",
    "        parsed = json.loads(instructions_raw)\n",
    "        if isinstance(parsed, dict) and \"testInstructions\" in parsed:\n",
    "            parsed_instructions = parsed\n",
    "    except json.JSONDecodeError:\n",
    "        try:\n",
    "            inner = json.loads(json.loads(instructions_raw))\n",
    "            if isinstance(inner, dict) and \"testInstructions\" in inner:\n",
    "                parsed_instructions = inner\n",
    "        except Exception:\n",
    "            pass\n",
    "\n",
    "    if parsed_instructions:\n",
    "        test_instructions = parsed_instructions.get(\"testInstructions\", \"\")\n",
    "        instruction_points = parsed_instructions.get(\"instructionPoints\", [])\n",
    "    else:\n",
    "        test_instructions = instructions_raw\n",
    "        instruction_points = (\n",
    "            re.findall(r'^\\s*\\d+\\.\\s*(.+)$', instructions_raw, flags=re.MULTILINE) or\n",
    "            re.findall(r'^\\s*####\\s*\\d+\\.\\s*(.+)$', instructions_raw, flags=re.MULTILINE)\n",
    "        )\n",
    "\n",
    "    entry = {\n",
    "        \"moduleName\": module,\n",
    "        \"changes\": {\n",
    "            \"addedFunctions\":       [name for name, _ in change.get(\"addedFunctions\", [])],\n",
    "            \"modifiedFunctions\":    [name for name, _, _ in change.get(\"modifiedFunctions\", [])],\n",
    "            \"deletedFunctions\":     [name for name, _ in change.get(\"deletedFunctions\", [])],\n",
    "            \"addedTypes\":           [name for name, _ in change.get(\"addedTypes\", [])],\n",
    "            \"modifiedTypes\":        [name for name, _, _ in change.get(\"modifiedTypes\", [])],\n",
    "            \"deletedTypes\":         [name for name, _ in change.get(\"deletedTypes\", [])],\n",
    "            \"addedExternals\":       [name for name, _ in change.get(\"addedExternals\", [])],\n",
    "            \"modifiedExternals\":    [name for name, _, _ in change.get(\"modifiedExternals\", [])],\n",
    "            \"deletedExternals\":     [name for name, _ in change.get(\"deletedExternals\", [])],\n",
    "        },\n",
    "        \"testInstructions\": test_instructions,\n",
    "        \"instructionPoints\": instruction_points\n",
    "    }\n",
    "\n",
    "    test_plan.append(entry)\n",
    "\n",
    "with open(\"test_plan.json\", \"w\") as out:\n",
    "    json.dump(test_plan, out, indent=2)\n",
    "\n",
    "print(f\"Generated test_plan.json with {len(test_plan)} entries focused on UI testing.\")"
   ]
  },
  {
   "cell_type": "code",
   "execution_count": 12,
   "id": "c5d45b7a",
   "metadata": {},
   "outputs": [
    {
     "name": "stdout",
     "output_type": "stream",
     "text": [
      "['Navigate to the /login page', 'Locate the UPI login section on the page', 'Enter a valid UPI ID in the input field', \"Click the 'Next' button to proceed\", 'Check for error message with invalid UPI ID entry', \"Verify loading animation appears after clicking 'Next'\", 'Confirm redirection to Two-Factor Authentication page', 'Test form responsiveness on mobile and desktop browsers', 'Inspect text alignment and button visibility in different screen sizes']\n"
     ]
    }
   ],
   "source": [
    "result = json.loads(resp.choices[0].message.content)\n",
    "instruction_points = result[\"instructionPoints\"]\n",
    "print(instruction_points)"
   ]
  },
  {
   "cell_type": "code",
   "execution_count": 13,
   "id": "faece83a",
   "metadata": {},
   "outputs": [
    {
     "name": "stdout",
     "output_type": "stream",
     "text": [
      "Navigate to the login page at the URL path /login or based on the application's starting point that leads to this login process. Within this page, locate the new UPI login section, which should be prominent possibly due to its recent modifications. Inside this section, find the input field specifically for UPI ID entry. Begin testing by entering a valid UPI ID and press the 'Next' button to move forward in the login process. Observe that a loading animation should appear briefly to signify processing, after which you should expect to be redirected to the Two-Factor Authentication page. This is crucial as it tests the new workflow adjustments declared in the 'make' function update. In contrast, deliberately enter an invalid UPI ID (e.g., a random string not formatted as a UPI ID) and ensure the UI displays a meaningful error message alerting the user to enter a correct UPI ID. For responsiveness, adjust the browser window size across typical screen dimensions, such as mobile or desktop, and verify that the text within the section remains well-aligned, buttons are clickable and do not overlap, and the overall design integrity is maintained. This checks both presentation and functional consistency following the changes.\n"
     ]
    }
   ],
   "source": [
    "full_instructions = result[\"testInstructions\"]\n",
    "print((full_instructions))"
   ]
  },
  {
   "cell_type": "code",
   "execution_count": null,
   "id": "b0b3a00c",
   "metadata": {},
   "outputs": [],
   "source": []
  }
 ],
 "metadata": {
  "kernelspec": {
   "display_name": "venv",
   "language": "python",
   "name": "python3"
  },
  "language_info": {
   "codemirror_mode": {
    "name": "ipython",
    "version": 3
   },
   "file_extension": ".py",
   "mimetype": "text/x-python",
   "name": "python",
   "nbconvert_exporter": "python",
   "pygments_lexer": "ipython3",
   "version": "3.12.9"
  }
 },
 "nbformat": 4,
 "nbformat_minor": 5
}
